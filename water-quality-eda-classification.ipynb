{
  "metadata": {
    "kernelspec": {
      "language": "python",
      "display_name": "Python 3",
      "name": "python3"
    },
    "language_info": {
      "pygments_lexer": "ipython3",
      "nbconvert_exporter": "python",
      "version": "3.6.4",
      "file_extension": ".py",
      "codemirror_mode": {
        "name": "ipython",
        "version": 3
      },
      "name": "python",
      "mimetype": "text/x-python"
    },
    "colab": {
      "provenance": []
    }
  },
  "nbformat_minor": 0,
  "nbformat": 4,
  "cells": [
    {
      "cell_type": "markdown",
      "source": [
        "안녕하세요 여러분?\n",
        "\n",
        "이번 시간에는 WATER QUALITY 데이터 분석을 해 보도록 하겠습니다.\n",
        "\n",
        "* 파이썬 코드는 GOOGLE COLAB 에서 실행하도록 합니다.\n",
        "=> http://colab.research.google.com\n",
        "\n",
        "* 실습 파일은 github 또는 강의게시판에 있습니다.\n",
        "=> github: http://github.com/dscoool/waterai/\n",
        "=> eCampus:\n",
        "\n",
        "코드를 입력하며 같이 실습해 보도록 합시다!\n",
        "\n",
        "실습을 할 때 주의할 점 - 반드시 손으로 코드를 일일히 타이핑해서 입력해 보고, **CTRL C + V 를 사용하지 마세요!! **코드를 복붙하면 실력이 늘지 않습니다!! 단, 주소 등은 복사, 붙여넣기 해도 되어요.\n",
        "\n",
        "\n",
        "\n"
      ],
      "metadata": {
        "id": "P_0mzcAWSjc6"
      }
    },
    {
      "cell_type": "code",
      "source": [
        "import numpy as np # 넘파이 - 수치 계산 라이브러리를 불러옵니다.\n",
        "import pandas as pd # 판다스 - 데이터 처리, CSV 파일 입출력 라이브러리를 불러옵니다. (e.g. pd.read_csv)\n",
        "import seaborn as sns # seaborn - 데이터 시각화 라이브러리입니다.\n",
        "import matplotlib.pyplot as plt # matplotlib - 그래프 관련 라이브러리입니다.\n"
      ],
      "metadata": {
        "_uuid": "8f2839f25d086af736a60e9eeb907d3b93b6e0e5",
        "_cell_guid": "b1076dfc-b9ad-4769-8c92-a6c4dae69d19",
        "execution": {
          "iopub.status.busy": "2023-06-02T13:04:27.494771Z",
          "iopub.execute_input": "2023-06-02T13:04:27.495229Z",
          "iopub.status.idle": "2023-06-02T13:04:27.514665Z",
          "shell.execute_reply.started": "2023-06-02T13:04:27.495186Z",
          "shell.execute_reply": "2023-06-02T13:04:27.513491Z"
        },
        "trusted": true,
        "id": "pQHyE7jNSchl"
      },
      "execution_count": 1,
      "outputs": []
    },
    {
      "cell_type": "markdown",
      "source": [
        "# Water Quality\n",
        "Access to safe drinking-water is essential to health, a basic human right and a component of effective policy for health protection. This is important as a health and development issue at a national, regional and local level. In some regions, it has been shown that investments in water supply and sanitation can yield a net economic benefit, since the reductions in adverse health effects and health care costs outweigh the costs of undertaking the interventions.\n",
        "\n",
        "\n",
        "1. [Load and Check Data](#1)\n",
        "\n",
        "1. [Variable Description](#2)\n",
        "    * [Univariate Variable Analysis](#3)\n",
        "        * [Categorical Variable](#4)\n",
        "        * [Numerical Variable](#5)\n",
        "\n",
        "1. [Missing Value](#6)\n",
        "    * [Find Missing Value](#7)\n",
        "    * [Fill Missing Value](#8)\n",
        "\n",
        "1. [Visualization](#9)    \n",
        "    \n",
        "1. [Modeling](#10)\n",
        "\n",
        "1. [Summary](#11)\n",
        ""
      ],
      "metadata": {
        "id": "PKshI35RSchn"
      }
    },
    {
      "cell_type": "markdown",
      "source": [
        "<a id = \"1\"></a><br>\n",
        "# 데이터 불러오기 및 앞부분 출력하기"
      ],
      "metadata": {
        "id": "xZ3py6CqScho"
      }
    },
    {
      "cell_type": "code",
      "source": [
        "data = pd.read_csv(\"https://raw.githubusercontent.com/dscoool/waterai/main/water_potability.csv\") # 원본 파일의 url을 통해 파일을 불러옵니다.\n",
        "data.head(10) # 데이터의 맨 앞 10줄을 보여줍니다. 숫자 변경 가능."
      ],
      "metadata": {
        "execution": {
          "iopub.status.busy": "2023-06-02T13:04:27.516511Z",
          "iopub.execute_input": "2023-06-02T13:04:27.517114Z",
          "iopub.status.idle": "2023-06-02T13:04:27.547611Z",
          "shell.execute_reply.started": "2023-06-02T13:04:27.517078Z",
          "shell.execute_reply": "2023-06-02T13:04:27.546351Z"
        },
        "trusted": true,
        "colab": {
          "base_uri": "https://localhost:8080/",
          "height": 406
        },
        "id": "w-rqjHHsSchp",
        "outputId": "e9e52dec-f950-47d7-d7f8-58b219d33caa"
      },
      "execution_count": 7,
      "outputs": [
        {
          "output_type": "execute_result",
          "data": {
            "text/plain": [
              "          ph    Hardness        Solids  Chloramines     Sulfate  Conductivity  \\\n",
              "0        NaN  204.890455  20791.318981     7.300212  368.516441    564.308654   \n",
              "1   3.716080  129.422921  18630.057858     6.635246         NaN    592.885359   \n",
              "2   8.099124  224.236259  19909.541732     9.275884         NaN    418.606213   \n",
              "3   8.316766  214.373394  22018.417441     8.059332  356.886136    363.266516   \n",
              "4   9.092223  181.101509  17978.986339     6.546600  310.135738    398.410813   \n",
              "5   5.584087  188.313324  28748.687739     7.544869  326.678363    280.467916   \n",
              "6  10.223862  248.071735  28749.716544     7.513408  393.663396    283.651634   \n",
              "7   8.635849  203.361523  13672.091764     4.563009  303.309771    474.607645   \n",
              "8        NaN  118.988579  14285.583854     7.804174  268.646941    389.375566   \n",
              "9  11.180284  227.231469  25484.508491     9.077200  404.041635    563.885481   \n",
              "\n",
              "   Organic_carbon  Trihalomethanes  Turbidity  Potability  \n",
              "0       10.379783        86.990970   2.963135           0  \n",
              "1       15.180013        56.329076   4.500656           0  \n",
              "2       16.868637        66.420093   3.055934           0  \n",
              "3       18.436524       100.341674   4.628771           0  \n",
              "4       11.558279        31.997993   4.075075           0  \n",
              "5        8.399735        54.917862   2.559708           0  \n",
              "6       13.789695        84.603556   2.672989           0  \n",
              "7       12.363817        62.798309   4.401425           0  \n",
              "8       12.706049        53.928846   3.595017           0  \n",
              "9       17.927806        71.976601   4.370562           0  "
            ],
            "text/html": [
              "\n",
              "  <div id=\"df-1243570b-022b-475d-a8bc-f5dd072504a2\">\n",
              "    <div class=\"colab-df-container\">\n",
              "      <div>\n",
              "<style scoped>\n",
              "    .dataframe tbody tr th:only-of-type {\n",
              "        vertical-align: middle;\n",
              "    }\n",
              "\n",
              "    .dataframe tbody tr th {\n",
              "        vertical-align: top;\n",
              "    }\n",
              "\n",
              "    .dataframe thead th {\n",
              "        text-align: right;\n",
              "    }\n",
              "</style>\n",
              "<table border=\"1\" class=\"dataframe\">\n",
              "  <thead>\n",
              "    <tr style=\"text-align: right;\">\n",
              "      <th></th>\n",
              "      <th>ph</th>\n",
              "      <th>Hardness</th>\n",
              "      <th>Solids</th>\n",
              "      <th>Chloramines</th>\n",
              "      <th>Sulfate</th>\n",
              "      <th>Conductivity</th>\n",
              "      <th>Organic_carbon</th>\n",
              "      <th>Trihalomethanes</th>\n",
              "      <th>Turbidity</th>\n",
              "      <th>Potability</th>\n",
              "    </tr>\n",
              "  </thead>\n",
              "  <tbody>\n",
              "    <tr>\n",
              "      <th>0</th>\n",
              "      <td>NaN</td>\n",
              "      <td>204.890455</td>\n",
              "      <td>20791.318981</td>\n",
              "      <td>7.300212</td>\n",
              "      <td>368.516441</td>\n",
              "      <td>564.308654</td>\n",
              "      <td>10.379783</td>\n",
              "      <td>86.990970</td>\n",
              "      <td>2.963135</td>\n",
              "      <td>0</td>\n",
              "    </tr>\n",
              "    <tr>\n",
              "      <th>1</th>\n",
              "      <td>3.716080</td>\n",
              "      <td>129.422921</td>\n",
              "      <td>18630.057858</td>\n",
              "      <td>6.635246</td>\n",
              "      <td>NaN</td>\n",
              "      <td>592.885359</td>\n",
              "      <td>15.180013</td>\n",
              "      <td>56.329076</td>\n",
              "      <td>4.500656</td>\n",
              "      <td>0</td>\n",
              "    </tr>\n",
              "    <tr>\n",
              "      <th>2</th>\n",
              "      <td>8.099124</td>\n",
              "      <td>224.236259</td>\n",
              "      <td>19909.541732</td>\n",
              "      <td>9.275884</td>\n",
              "      <td>NaN</td>\n",
              "      <td>418.606213</td>\n",
              "      <td>16.868637</td>\n",
              "      <td>66.420093</td>\n",
              "      <td>3.055934</td>\n",
              "      <td>0</td>\n",
              "    </tr>\n",
              "    <tr>\n",
              "      <th>3</th>\n",
              "      <td>8.316766</td>\n",
              "      <td>214.373394</td>\n",
              "      <td>22018.417441</td>\n",
              "      <td>8.059332</td>\n",
              "      <td>356.886136</td>\n",
              "      <td>363.266516</td>\n",
              "      <td>18.436524</td>\n",
              "      <td>100.341674</td>\n",
              "      <td>4.628771</td>\n",
              "      <td>0</td>\n",
              "    </tr>\n",
              "    <tr>\n",
              "      <th>4</th>\n",
              "      <td>9.092223</td>\n",
              "      <td>181.101509</td>\n",
              "      <td>17978.986339</td>\n",
              "      <td>6.546600</td>\n",
              "      <td>310.135738</td>\n",
              "      <td>398.410813</td>\n",
              "      <td>11.558279</td>\n",
              "      <td>31.997993</td>\n",
              "      <td>4.075075</td>\n",
              "      <td>0</td>\n",
              "    </tr>\n",
              "    <tr>\n",
              "      <th>5</th>\n",
              "      <td>5.584087</td>\n",
              "      <td>188.313324</td>\n",
              "      <td>28748.687739</td>\n",
              "      <td>7.544869</td>\n",
              "      <td>326.678363</td>\n",
              "      <td>280.467916</td>\n",
              "      <td>8.399735</td>\n",
              "      <td>54.917862</td>\n",
              "      <td>2.559708</td>\n",
              "      <td>0</td>\n",
              "    </tr>\n",
              "    <tr>\n",
              "      <th>6</th>\n",
              "      <td>10.223862</td>\n",
              "      <td>248.071735</td>\n",
              "      <td>28749.716544</td>\n",
              "      <td>7.513408</td>\n",
              "      <td>393.663396</td>\n",
              "      <td>283.651634</td>\n",
              "      <td>13.789695</td>\n",
              "      <td>84.603556</td>\n",
              "      <td>2.672989</td>\n",
              "      <td>0</td>\n",
              "    </tr>\n",
              "    <tr>\n",
              "      <th>7</th>\n",
              "      <td>8.635849</td>\n",
              "      <td>203.361523</td>\n",
              "      <td>13672.091764</td>\n",
              "      <td>4.563009</td>\n",
              "      <td>303.309771</td>\n",
              "      <td>474.607645</td>\n",
              "      <td>12.363817</td>\n",
              "      <td>62.798309</td>\n",
              "      <td>4.401425</td>\n",
              "      <td>0</td>\n",
              "    </tr>\n",
              "    <tr>\n",
              "      <th>8</th>\n",
              "      <td>NaN</td>\n",
              "      <td>118.988579</td>\n",
              "      <td>14285.583854</td>\n",
              "      <td>7.804174</td>\n",
              "      <td>268.646941</td>\n",
              "      <td>389.375566</td>\n",
              "      <td>12.706049</td>\n",
              "      <td>53.928846</td>\n",
              "      <td>3.595017</td>\n",
              "      <td>0</td>\n",
              "    </tr>\n",
              "    <tr>\n",
              "      <th>9</th>\n",
              "      <td>11.180284</td>\n",
              "      <td>227.231469</td>\n",
              "      <td>25484.508491</td>\n",
              "      <td>9.077200</td>\n",
              "      <td>404.041635</td>\n",
              "      <td>563.885481</td>\n",
              "      <td>17.927806</td>\n",
              "      <td>71.976601</td>\n",
              "      <td>4.370562</td>\n",
              "      <td>0</td>\n",
              "    </tr>\n",
              "  </tbody>\n",
              "</table>\n",
              "</div>\n",
              "      <button class=\"colab-df-convert\" onclick=\"convertToInteractive('df-1243570b-022b-475d-a8bc-f5dd072504a2')\"\n",
              "              title=\"Convert this dataframe to an interactive table.\"\n",
              "              style=\"display:none;\">\n",
              "        \n",
              "  <svg xmlns=\"http://www.w3.org/2000/svg\" height=\"24px\"viewBox=\"0 0 24 24\"\n",
              "       width=\"24px\">\n",
              "    <path d=\"M0 0h24v24H0V0z\" fill=\"none\"/>\n",
              "    <path d=\"M18.56 5.44l.94 2.06.94-2.06 2.06-.94-2.06-.94-.94-2.06-.94 2.06-2.06.94zm-11 1L8.5 8.5l.94-2.06 2.06-.94-2.06-.94L8.5 2.5l-.94 2.06-2.06.94zm10 10l.94 2.06.94-2.06 2.06-.94-2.06-.94-.94-2.06-.94 2.06-2.06.94z\"/><path d=\"M17.41 7.96l-1.37-1.37c-.4-.4-.92-.59-1.43-.59-.52 0-1.04.2-1.43.59L10.3 9.45l-7.72 7.72c-.78.78-.78 2.05 0 2.83L4 21.41c.39.39.9.59 1.41.59.51 0 1.02-.2 1.41-.59l7.78-7.78 2.81-2.81c.8-.78.8-2.07 0-2.86zM5.41 20L4 18.59l7.72-7.72 1.47 1.35L5.41 20z\"/>\n",
              "  </svg>\n",
              "      </button>\n",
              "      \n",
              "  <style>\n",
              "    .colab-df-container {\n",
              "      display:flex;\n",
              "      flex-wrap:wrap;\n",
              "      gap: 12px;\n",
              "    }\n",
              "\n",
              "    .colab-df-convert {\n",
              "      background-color: #E8F0FE;\n",
              "      border: none;\n",
              "      border-radius: 50%;\n",
              "      cursor: pointer;\n",
              "      display: none;\n",
              "      fill: #1967D2;\n",
              "      height: 32px;\n",
              "      padding: 0 0 0 0;\n",
              "      width: 32px;\n",
              "    }\n",
              "\n",
              "    .colab-df-convert:hover {\n",
              "      background-color: #E2EBFA;\n",
              "      box-shadow: 0px 1px 2px rgba(60, 64, 67, 0.3), 0px 1px 3px 1px rgba(60, 64, 67, 0.15);\n",
              "      fill: #174EA6;\n",
              "    }\n",
              "\n",
              "    [theme=dark] .colab-df-convert {\n",
              "      background-color: #3B4455;\n",
              "      fill: #D2E3FC;\n",
              "    }\n",
              "\n",
              "    [theme=dark] .colab-df-convert:hover {\n",
              "      background-color: #434B5C;\n",
              "      box-shadow: 0px 1px 3px 1px rgba(0, 0, 0, 0.15);\n",
              "      filter: drop-shadow(0px 1px 2px rgba(0, 0, 0, 0.3));\n",
              "      fill: #FFFFFF;\n",
              "    }\n",
              "  </style>\n",
              "\n",
              "      <script>\n",
              "        const buttonEl =\n",
              "          document.querySelector('#df-1243570b-022b-475d-a8bc-f5dd072504a2 button.colab-df-convert');\n",
              "        buttonEl.style.display =\n",
              "          google.colab.kernel.accessAllowed ? 'block' : 'none';\n",
              "\n",
              "        async function convertToInteractive(key) {\n",
              "          const element = document.querySelector('#df-1243570b-022b-475d-a8bc-f5dd072504a2');\n",
              "          const dataTable =\n",
              "            await google.colab.kernel.invokeFunction('convertToInteractive',\n",
              "                                                     [key], {});\n",
              "          if (!dataTable) return;\n",
              "\n",
              "          const docLinkHtml = 'Like what you see? Visit the ' +\n",
              "            '<a target=\"_blank\" href=https://colab.research.google.com/notebooks/data_table.ipynb>data table notebook</a>'\n",
              "            + ' to learn more about interactive tables.';\n",
              "          element.innerHTML = '';\n",
              "          dataTable['output_type'] = 'display_data';\n",
              "          await google.colab.output.renderOutput(dataTable, element);\n",
              "          const docLink = document.createElement('div');\n",
              "          docLink.innerHTML = docLinkHtml;\n",
              "          element.appendChild(docLink);\n",
              "        }\n",
              "      </script>\n",
              "    </div>\n",
              "  </div>\n",
              "  "
            ]
          },
          "metadata": {},
          "execution_count": 7
        }
      ]
    },
    {
      "cell_type": "markdown",
      "source": [
        "데이터를 쭉 살펴봅시다. 이 데이터는 어떤 데이터인가요?"
      ],
      "metadata": {
        "id": "2Q0aPmzrUh3g"
      }
    },
    {
      "cell_type": "code",
      "source": [
        "data.describe() #데이터의 통계를 내 봅니다. 데이터를 묘사(describe)하는 명령입니다."
      ],
      "metadata": {
        "execution": {
          "iopub.status.busy": "2023-06-02T13:04:27.549131Z",
          "iopub.execute_input": "2023-06-02T13:04:27.549496Z",
          "iopub.status.idle": "2023-06-02T13:04:27.598461Z",
          "shell.execute_reply.started": "2023-06-02T13:04:27.549463Z",
          "shell.execute_reply": "2023-06-02T13:04:27.596326Z"
        },
        "trusted": true,
        "colab": {
          "base_uri": "https://localhost:8080/",
          "height": 364
        },
        "id": "FpADRMdGSchq",
        "outputId": "99e78a42-885a-4fe7-989d-95d3914b3228"
      },
      "execution_count": 8,
      "outputs": [
        {
          "output_type": "execute_result",
          "data": {
            "text/plain": [
              "                ph     Hardness        Solids  Chloramines      Sulfate  \\\n",
              "count  2785.000000  3276.000000   3276.000000  3276.000000  2495.000000   \n",
              "mean      7.080795   196.369496  22014.092526     7.122277   333.775777   \n",
              "std       1.594320    32.879761   8768.570828     1.583085    41.416840   \n",
              "min       0.000000    47.432000    320.942611     0.352000   129.000000   \n",
              "25%       6.093092   176.850538  15666.690297     6.127421   307.699498   \n",
              "50%       7.036752   196.967627  20927.833607     7.130299   333.073546   \n",
              "75%       8.062066   216.667456  27332.762127     8.114887   359.950170   \n",
              "max      14.000000   323.124000  61227.196008    13.127000   481.030642   \n",
              "\n",
              "       Conductivity  Organic_carbon  Trihalomethanes    Turbidity   Potability  \n",
              "count   3276.000000     3276.000000      3114.000000  3276.000000  3276.000000  \n",
              "mean     426.205111       14.284970        66.396293     3.966786     0.390110  \n",
              "std       80.824064        3.308162        16.175008     0.780382     0.487849  \n",
              "min      181.483754        2.200000         0.738000     1.450000     0.000000  \n",
              "25%      365.734414       12.065801        55.844536     3.439711     0.000000  \n",
              "50%      421.884968       14.218338        66.622485     3.955028     0.000000  \n",
              "75%      481.792304       16.557652        77.337473     4.500320     1.000000  \n",
              "max      753.342620       28.300000       124.000000     6.739000     1.000000  "
            ],
            "text/html": [
              "\n",
              "  <div id=\"df-26e635fc-2b69-4eb1-86ad-339e328e7791\">\n",
              "    <div class=\"colab-df-container\">\n",
              "      <div>\n",
              "<style scoped>\n",
              "    .dataframe tbody tr th:only-of-type {\n",
              "        vertical-align: middle;\n",
              "    }\n",
              "\n",
              "    .dataframe tbody tr th {\n",
              "        vertical-align: top;\n",
              "    }\n",
              "\n",
              "    .dataframe thead th {\n",
              "        text-align: right;\n",
              "    }\n",
              "</style>\n",
              "<table border=\"1\" class=\"dataframe\">\n",
              "  <thead>\n",
              "    <tr style=\"text-align: right;\">\n",
              "      <th></th>\n",
              "      <th>ph</th>\n",
              "      <th>Hardness</th>\n",
              "      <th>Solids</th>\n",
              "      <th>Chloramines</th>\n",
              "      <th>Sulfate</th>\n",
              "      <th>Conductivity</th>\n",
              "      <th>Organic_carbon</th>\n",
              "      <th>Trihalomethanes</th>\n",
              "      <th>Turbidity</th>\n",
              "      <th>Potability</th>\n",
              "    </tr>\n",
              "  </thead>\n",
              "  <tbody>\n",
              "    <tr>\n",
              "      <th>count</th>\n",
              "      <td>2785.000000</td>\n",
              "      <td>3276.000000</td>\n",
              "      <td>3276.000000</td>\n",
              "      <td>3276.000000</td>\n",
              "      <td>2495.000000</td>\n",
              "      <td>3276.000000</td>\n",
              "      <td>3276.000000</td>\n",
              "      <td>3114.000000</td>\n",
              "      <td>3276.000000</td>\n",
              "      <td>3276.000000</td>\n",
              "    </tr>\n",
              "    <tr>\n",
              "      <th>mean</th>\n",
              "      <td>7.080795</td>\n",
              "      <td>196.369496</td>\n",
              "      <td>22014.092526</td>\n",
              "      <td>7.122277</td>\n",
              "      <td>333.775777</td>\n",
              "      <td>426.205111</td>\n",
              "      <td>14.284970</td>\n",
              "      <td>66.396293</td>\n",
              "      <td>3.966786</td>\n",
              "      <td>0.390110</td>\n",
              "    </tr>\n",
              "    <tr>\n",
              "      <th>std</th>\n",
              "      <td>1.594320</td>\n",
              "      <td>32.879761</td>\n",
              "      <td>8768.570828</td>\n",
              "      <td>1.583085</td>\n",
              "      <td>41.416840</td>\n",
              "      <td>80.824064</td>\n",
              "      <td>3.308162</td>\n",
              "      <td>16.175008</td>\n",
              "      <td>0.780382</td>\n",
              "      <td>0.487849</td>\n",
              "    </tr>\n",
              "    <tr>\n",
              "      <th>min</th>\n",
              "      <td>0.000000</td>\n",
              "      <td>47.432000</td>\n",
              "      <td>320.942611</td>\n",
              "      <td>0.352000</td>\n",
              "      <td>129.000000</td>\n",
              "      <td>181.483754</td>\n",
              "      <td>2.200000</td>\n",
              "      <td>0.738000</td>\n",
              "      <td>1.450000</td>\n",
              "      <td>0.000000</td>\n",
              "    </tr>\n",
              "    <tr>\n",
              "      <th>25%</th>\n",
              "      <td>6.093092</td>\n",
              "      <td>176.850538</td>\n",
              "      <td>15666.690297</td>\n",
              "      <td>6.127421</td>\n",
              "      <td>307.699498</td>\n",
              "      <td>365.734414</td>\n",
              "      <td>12.065801</td>\n",
              "      <td>55.844536</td>\n",
              "      <td>3.439711</td>\n",
              "      <td>0.000000</td>\n",
              "    </tr>\n",
              "    <tr>\n",
              "      <th>50%</th>\n",
              "      <td>7.036752</td>\n",
              "      <td>196.967627</td>\n",
              "      <td>20927.833607</td>\n",
              "      <td>7.130299</td>\n",
              "      <td>333.073546</td>\n",
              "      <td>421.884968</td>\n",
              "      <td>14.218338</td>\n",
              "      <td>66.622485</td>\n",
              "      <td>3.955028</td>\n",
              "      <td>0.000000</td>\n",
              "    </tr>\n",
              "    <tr>\n",
              "      <th>75%</th>\n",
              "      <td>8.062066</td>\n",
              "      <td>216.667456</td>\n",
              "      <td>27332.762127</td>\n",
              "      <td>8.114887</td>\n",
              "      <td>359.950170</td>\n",
              "      <td>481.792304</td>\n",
              "      <td>16.557652</td>\n",
              "      <td>77.337473</td>\n",
              "      <td>4.500320</td>\n",
              "      <td>1.000000</td>\n",
              "    </tr>\n",
              "    <tr>\n",
              "      <th>max</th>\n",
              "      <td>14.000000</td>\n",
              "      <td>323.124000</td>\n",
              "      <td>61227.196008</td>\n",
              "      <td>13.127000</td>\n",
              "      <td>481.030642</td>\n",
              "      <td>753.342620</td>\n",
              "      <td>28.300000</td>\n",
              "      <td>124.000000</td>\n",
              "      <td>6.739000</td>\n",
              "      <td>1.000000</td>\n",
              "    </tr>\n",
              "  </tbody>\n",
              "</table>\n",
              "</div>\n",
              "      <button class=\"colab-df-convert\" onclick=\"convertToInteractive('df-26e635fc-2b69-4eb1-86ad-339e328e7791')\"\n",
              "              title=\"Convert this dataframe to an interactive table.\"\n",
              "              style=\"display:none;\">\n",
              "        \n",
              "  <svg xmlns=\"http://www.w3.org/2000/svg\" height=\"24px\"viewBox=\"0 0 24 24\"\n",
              "       width=\"24px\">\n",
              "    <path d=\"M0 0h24v24H0V0z\" fill=\"none\"/>\n",
              "    <path d=\"M18.56 5.44l.94 2.06.94-2.06 2.06-.94-2.06-.94-.94-2.06-.94 2.06-2.06.94zm-11 1L8.5 8.5l.94-2.06 2.06-.94-2.06-.94L8.5 2.5l-.94 2.06-2.06.94zm10 10l.94 2.06.94-2.06 2.06-.94-2.06-.94-.94-2.06-.94 2.06-2.06.94z\"/><path d=\"M17.41 7.96l-1.37-1.37c-.4-.4-.92-.59-1.43-.59-.52 0-1.04.2-1.43.59L10.3 9.45l-7.72 7.72c-.78.78-.78 2.05 0 2.83L4 21.41c.39.39.9.59 1.41.59.51 0 1.02-.2 1.41-.59l7.78-7.78 2.81-2.81c.8-.78.8-2.07 0-2.86zM5.41 20L4 18.59l7.72-7.72 1.47 1.35L5.41 20z\"/>\n",
              "  </svg>\n",
              "      </button>\n",
              "      \n",
              "  <style>\n",
              "    .colab-df-container {\n",
              "      display:flex;\n",
              "      flex-wrap:wrap;\n",
              "      gap: 12px;\n",
              "    }\n",
              "\n",
              "    .colab-df-convert {\n",
              "      background-color: #E8F0FE;\n",
              "      border: none;\n",
              "      border-radius: 50%;\n",
              "      cursor: pointer;\n",
              "      display: none;\n",
              "      fill: #1967D2;\n",
              "      height: 32px;\n",
              "      padding: 0 0 0 0;\n",
              "      width: 32px;\n",
              "    }\n",
              "\n",
              "    .colab-df-convert:hover {\n",
              "      background-color: #E2EBFA;\n",
              "      box-shadow: 0px 1px 2px rgba(60, 64, 67, 0.3), 0px 1px 3px 1px rgba(60, 64, 67, 0.15);\n",
              "      fill: #174EA6;\n",
              "    }\n",
              "\n",
              "    [theme=dark] .colab-df-convert {\n",
              "      background-color: #3B4455;\n",
              "      fill: #D2E3FC;\n",
              "    }\n",
              "\n",
              "    [theme=dark] .colab-df-convert:hover {\n",
              "      background-color: #434B5C;\n",
              "      box-shadow: 0px 1px 3px 1px rgba(0, 0, 0, 0.15);\n",
              "      filter: drop-shadow(0px 1px 2px rgba(0, 0, 0, 0.3));\n",
              "      fill: #FFFFFF;\n",
              "    }\n",
              "  </style>\n",
              "\n",
              "      <script>\n",
              "        const buttonEl =\n",
              "          document.querySelector('#df-26e635fc-2b69-4eb1-86ad-339e328e7791 button.colab-df-convert');\n",
              "        buttonEl.style.display =\n",
              "          google.colab.kernel.accessAllowed ? 'block' : 'none';\n",
              "\n",
              "        async function convertToInteractive(key) {\n",
              "          const element = document.querySelector('#df-26e635fc-2b69-4eb1-86ad-339e328e7791');\n",
              "          const dataTable =\n",
              "            await google.colab.kernel.invokeFunction('convertToInteractive',\n",
              "                                                     [key], {});\n",
              "          if (!dataTable) return;\n",
              "\n",
              "          const docLinkHtml = 'Like what you see? Visit the ' +\n",
              "            '<a target=\"_blank\" href=https://colab.research.google.com/notebooks/data_table.ipynb>data table notebook</a>'\n",
              "            + ' to learn more about interactive tables.';\n",
              "          element.innerHTML = '';\n",
              "          dataTable['output_type'] = 'display_data';\n",
              "          await google.colab.output.renderOutput(dataTable, element);\n",
              "          const docLink = document.createElement('div');\n",
              "          docLink.innerHTML = docLinkHtml;\n",
              "          element.appendChild(docLink);\n",
              "        }\n",
              "      </script>\n",
              "    </div>\n",
              "  </div>\n",
              "  "
            ]
          },
          "metadata": {},
          "execution_count": 8
        }
      ]
    },
    {
      "cell_type": "markdown",
      "source": [
        "<a id = \"2\"></a><br>\n",
        "# Variable Description\n",
        "\n",
        "* pH : Acidity of water.\n",
        "* Hardness: Hardness of water.\n",
        "* Solids : Solids dissolved in water.\n",
        "* Chloramines: Chloramines dissolved in water.\n",
        "* Sulfate : Sulfate contained in water.\n",
        "* Conductivity: Conductivity of electric of water.\n",
        "* Organic Carbon : Organic Carbon dissolved in water.\n",
        "* Trihalomethanes: Trihalomethanes are chemicals that may be found in water.\n",
        "* Turbidity: Measure of light emitting.\n",
        "* Potability: Classification of water if it is healthy or not. 1 is healthy, 0 is unhealthy."
      ],
      "metadata": {
        "id": "jrZoFwimSchq"
      }
    },
    {
      "cell_type": "code",
      "source": [
        "data.info()"
      ],
      "metadata": {
        "execution": {
          "iopub.status.busy": "2023-06-02T13:04:27.601273Z",
          "iopub.execute_input": "2023-06-02T13:04:27.602368Z",
          "iopub.status.idle": "2023-06-02T13:04:27.616055Z",
          "shell.execute_reply.started": "2023-06-02T13:04:27.602326Z",
          "shell.execute_reply": "2023-06-02T13:04:27.61481Z"
        },
        "trusted": true,
        "id": "Gqk8xo40Schr"
      },
      "execution_count": null,
      "outputs": []
    },
    {
      "cell_type": "markdown",
      "source": [
        "<a id = \"3\"></a><br>\n",
        "# Univariate Variable Analysis\n",
        "* Categorical Variable: Potability\n",
        "* Numerical Variable: pH, Hardness, Solids, Chloramines, Sulfate, Conductivity, Organic Carbon, Trihalomethanes, Turbidity"
      ],
      "metadata": {
        "id": "iu9LKlOtSchr"
      }
    },
    {
      "cell_type": "markdown",
      "source": [
        "<a id = \"4\"></a><br>\n",
        "## Categorical Variable"
      ],
      "metadata": {
        "id": "STeDwl9VSchr"
      }
    },
    {
      "cell_type": "code",
      "source": [
        "plt.figure(figsize = (4,4))\n",
        "sns.countplot(data = data, x = data[\"Potability\"])\n",
        "plt.show()"
      ],
      "metadata": {
        "execution": {
          "iopub.status.busy": "2023-06-02T13:04:27.618281Z",
          "iopub.execute_input": "2023-06-02T13:04:27.618985Z",
          "iopub.status.idle": "2023-06-02T13:04:27.845806Z",
          "shell.execute_reply.started": "2023-06-02T13:04:27.618946Z",
          "shell.execute_reply": "2023-06-02T13:04:27.844036Z"
        },
        "trusted": true,
        "id": "xqGxs5wASchs"
      },
      "execution_count": null,
      "outputs": []
    },
    {
      "cell_type": "markdown",
      "source": [
        "* We clearly see that our data is not balanced."
      ],
      "metadata": {
        "id": "YHt1vNkrSchs"
      }
    },
    {
      "cell_type": "markdown",
      "source": [
        "<a id = \"5\"></a><br>\n",
        "## Numerical Variables:\n",
        "Our numerical variables are:\n",
        "* pH,\n",
        "* Hardness\n",
        "* Solids\n",
        "* Chloramines\n",
        "* Sulfate\n",
        "* Conductivity\n",
        "* Organic Carbon\n",
        "* Trihalomethanes\n",
        "* Turbidity\n",
        "\n",
        "We should see their distribution and how they affect potability on a histogram plot."
      ],
      "metadata": {
        "id": "uoyZ1CrNSchs"
      }
    },
    {
      "cell_type": "code",
      "source": [
        "def histplot(var):\n",
        "    plt.figure(figsize = (6,3))\n",
        "    sns.histplot(data = data, x = data[var], hue = data.Potability)\n",
        "    plt.xlabel(var)\n",
        "    plt.ylabel(\"count\")\n",
        "    plt.show()"
      ],
      "metadata": {
        "execution": {
          "iopub.status.busy": "2023-06-02T13:04:27.847314Z",
          "iopub.execute_input": "2023-06-02T13:04:27.847712Z",
          "iopub.status.idle": "2023-06-02T13:04:27.855016Z",
          "shell.execute_reply.started": "2023-06-02T13:04:27.847662Z",
          "shell.execute_reply": "2023-06-02T13:04:27.85367Z"
        },
        "trusted": true,
        "id": "P8Htcpi1Schs"
      },
      "execution_count": null,
      "outputs": []
    },
    {
      "cell_type": "code",
      "source": [
        "numvars = [\"ph\",\"Hardness\",\"Solids\",\"Chloramines\",\"Sulfate\",\"Conductivity\",\"Organic_carbon\",\"Trihalomethanes\",\"Turbidity\"]\n",
        "for n in numvars:\n",
        "    histplot(n)"
      ],
      "metadata": {
        "execution": {
          "iopub.status.busy": "2023-06-02T13:04:27.857072Z",
          "iopub.execute_input": "2023-06-02T13:04:27.857471Z",
          "iopub.status.idle": "2023-06-02T13:04:32.039565Z",
          "shell.execute_reply.started": "2023-06-02T13:04:27.857443Z",
          "shell.execute_reply": "2023-06-02T13:04:32.038343Z"
        },
        "trusted": true,
        "id": "HpRmtKyGScht"
      },
      "execution_count": null,
      "outputs": []
    },
    {
      "cell_type": "markdown",
      "source": [
        "<a id = \"6\"></a><br>\n",
        "# Missing Value\n"
      ],
      "metadata": {
        "id": "ymrfp2u6Scht"
      }
    },
    {
      "cell_type": "markdown",
      "source": [
        "<a id = \"7\"></a><br>\n",
        "## Find Missing Value"
      ],
      "metadata": {
        "id": "lSxjb1xwScht"
      }
    },
    {
      "cell_type": "code",
      "source": [
        "data.isnull().sum()"
      ],
      "metadata": {
        "execution": {
          "iopub.status.busy": "2023-06-02T13:04:32.041165Z",
          "iopub.execute_input": "2023-06-02T13:04:32.041545Z",
          "iopub.status.idle": "2023-06-02T13:04:32.05467Z",
          "shell.execute_reply.started": "2023-06-02T13:04:32.041515Z",
          "shell.execute_reply": "2023-06-02T13:04:32.05308Z"
        },
        "trusted": true,
        "id": "dnj0vWspScht"
      },
      "execution_count": null,
      "outputs": []
    },
    {
      "cell_type": "markdown",
      "source": [
        "<a id = \"8\"></a><br>\n",
        "## Dropping Missing Values"
      ],
      "metadata": {
        "id": "PVrmSM8FSchu"
      }
    },
    {
      "cell_type": "code",
      "source": [
        "data = data.dropna()\n",
        "data.isnull().sum()"
      ],
      "metadata": {
        "execution": {
          "iopub.status.busy": "2023-06-02T13:04:32.056388Z",
          "iopub.execute_input": "2023-06-02T13:04:32.057012Z",
          "iopub.status.idle": "2023-06-02T13:04:32.074146Z",
          "shell.execute_reply.started": "2023-06-02T13:04:32.056784Z",
          "shell.execute_reply": "2023-06-02T13:04:32.072887Z"
        },
        "trusted": true,
        "id": "FWgIbw_qSchu"
      },
      "execution_count": null,
      "outputs": []
    },
    {
      "cell_type": "markdown",
      "source": [
        "<a id = \"9\"></a><br>\n",
        "# Visualization"
      ],
      "metadata": {
        "id": "RrvZD9TeSchu"
      }
    },
    {
      "cell_type": "code",
      "source": [
        "numvars = [\"ph\",\"Hardness\",\"Solids\",\"Chloramines\",\"Sulfate\",\"Conductivity\",\"Organic_carbon\",\"Trihalomethanes\",\"Turbidity\"]\n",
        "fig, axes = plt.subplots(3, 3, figsize=(9,9))\n",
        "\n",
        "fig.suptitle('Distribution of Features')\n",
        "plt.grid()\n",
        "sns.boxplot(ax=axes[0, 0], data=data, x='ph')\n",
        "sns.boxplot(ax=axes[0, 1], data=data, x='Hardness')\n",
        "sns.boxplot(ax=axes[0, 2], data=data, x='Solids')\n",
        "sns.boxplot(ax=axes[1, 0], data=data, x='Chloramines')\n",
        "sns.boxplot(ax=axes[1, 1], data=data, x='Sulfate')\n",
        "sns.boxplot(ax=axes[1, 2], data=data, x='Conductivity')\n",
        "sns.boxplot(ax=axes[2, 0], data=data, x='Organic_carbon')\n",
        "sns.boxplot(ax=axes[2, 1], data=data, x='Trihalomethanes')\n",
        "sns.boxplot(ax=axes[2, 2], data=data, x='Turbidity')\n",
        "plt.show()"
      ],
      "metadata": {
        "execution": {
          "iopub.status.busy": "2023-06-02T13:04:32.078834Z",
          "iopub.execute_input": "2023-06-02T13:04:32.079868Z",
          "iopub.status.idle": "2023-06-02T13:04:32.993381Z",
          "shell.execute_reply.started": "2023-06-02T13:04:32.079818Z",
          "shell.execute_reply": "2023-06-02T13:04:32.9914Z"
        },
        "trusted": true,
        "id": "znhVfJ22Schv"
      },
      "execution_count": null,
      "outputs": []
    },
    {
      "cell_type": "markdown",
      "source": [
        "* We can see that all our features distributed normally. Let's get to the machine learning."
      ],
      "metadata": {
        "id": "tCzqfQIlSchv"
      }
    },
    {
      "cell_type": "markdown",
      "source": [
        "<a id = \"10\"></a><br>\n",
        "# Modeling"
      ],
      "metadata": {
        "id": "X4fT0vi6Schv"
      }
    },
    {
      "cell_type": "code",
      "source": [
        "pip install pycaret"
      ],
      "metadata": {
        "_kg_hide-output": true,
        "_kg_hide-input": true,
        "execution": {
          "iopub.status.busy": "2023-06-02T13:04:32.995048Z",
          "iopub.execute_input": "2023-06-02T13:04:32.995435Z",
          "iopub.status.idle": "2023-06-02T13:04:47.697508Z",
          "shell.execute_reply.started": "2023-06-02T13:04:32.995402Z",
          "shell.execute_reply": "2023-06-02T13:04:47.69597Z"
        },
        "trusted": true,
        "id": "Au2Ig8yKSchv"
      },
      "execution_count": null,
      "outputs": []
    },
    {
      "cell_type": "code",
      "source": [
        "from pycaret.classification import *\n",
        "clf = setup(data, target = \"Potability\", session_id = 786)\n",
        "compare_models()"
      ],
      "metadata": {
        "execution": {
          "iopub.status.busy": "2023-06-02T13:04:47.699569Z",
          "iopub.execute_input": "2023-06-02T13:04:47.699993Z",
          "iopub.status.idle": "2023-06-02T13:05:22.12842Z",
          "shell.execute_reply.started": "2023-06-02T13:04:47.699951Z",
          "shell.execute_reply": "2023-06-02T13:05:22.126711Z"
        },
        "trusted": true,
        "id": "qAxdVuytSchw"
      },
      "execution_count": null,
      "outputs": []
    },
    {
      "cell_type": "code",
      "source": [
        "model = create_model(\"et\")\n",
        "predict = predict_model(model, data=data)\n",
        "predict.head()"
      ],
      "metadata": {
        "execution": {
          "iopub.status.busy": "2023-06-02T13:05:22.1306Z",
          "iopub.execute_input": "2023-06-02T13:05:22.131862Z",
          "iopub.status.idle": "2023-06-02T13:05:27.469891Z",
          "shell.execute_reply.started": "2023-06-02T13:05:22.131799Z",
          "shell.execute_reply": "2023-06-02T13:05:27.468339Z"
        },
        "trusted": true,
        "id": "YpyA-ALrSchw"
      },
      "execution_count": null,
      "outputs": []
    },
    {
      "cell_type": "markdown",
      "source": [
        "<a id = \"11\"></a><br>\n",
        "# Summary\n",
        "Extra Trees Classifier gave the best accuracy around mostly known classifying models. So we decided to go on with it. It turned out %90 of accuracy. I've used PyCaret library in this notebook. It automatically fits all classification models to your specified data and feature and returns all the accuracies for each model."
      ],
      "metadata": {
        "id": "PaJ4Q7PwSchw"
      }
    },
    {
      "cell_type": "code",
      "source": [],
      "metadata": {
        "id": "RDiXtRwSSchw"
      },
      "execution_count": null,
      "outputs": []
    }
  ]
}