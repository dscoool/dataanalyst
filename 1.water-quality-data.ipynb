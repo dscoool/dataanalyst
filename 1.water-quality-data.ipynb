{
  "metadata": {
    "kernelspec": {
      "language": "python",
      "display_name": "Python 3",
      "name": "python3"
    },
    "language_info": {
      "pygments_lexer": "ipython3",
      "nbconvert_exporter": "python",
      "version": "3.6.4",
      "file_extension": ".py",
      "codemirror_mode": {
        "name": "ipython",
        "version": 3
      },
      "name": "python",
      "mimetype": "text/x-python"
    },
    "colab": {
      "provenance": []
    }
  },
  "nbformat_minor": 0,
  "nbformat": 4,
  "cells": [
    {
      "cell_type": "markdown",
      "source": [
        "안녕하세요 여러분?\n",
        "\n",
        "이번 시간에는 WATER QUALITY 데이터 분석을 해 보도록 하겠습니다.\n",
        "\n",
        "* 파이썬 코드는 GOOGLE COLAB 에서 실행하도록 합니다.\n",
        "=> http://colab.research.google.com\n",
        "\n",
        "* 실습 파일은 github 또는 강의게시판에 있습니다.\n",
        "=> github: http://github.com/dscoool/waterai/\n",
        "=> eCampus:\n",
        "\n",
        "코드를 입력하며 같이 실습해 보도록 합시다!\n",
        "\n",
        "실습을 할 때 주의할 점 - 반드시 손으로 코드를 일일히 타이핑해서 입력해 보고, **CTRL C + V 를 사용하지 마세요!! **코드를 복붙하면 실력이 늘지 않습니다!! 단, 주소 등은 복사, 붙여넣기 해도 되어요.\n",
        "\n",
        "\n",
        "\n"
      ],
      "metadata": {
        "id": "P_0mzcAWSjc6"
      }
    },
    {
      "cell_type": "code",
      "source": [
        "import numpy as np # 넘파이 - 수치 계산 라이브러리입니다.\n",
        "import pandas as pd # data processing, CSV file I/O (e.g. pd.read_csv)\n",
        "import seaborn as sns #Data Visualization\n",
        "import matplotlib.pyplot as plt #Data Visualization\n",
        "\n",
        "# Input data files are available in the read-only \"../input/\" directory\n",
        "# For example, running this (by clicking run or pressing Shift+Enter) will list all files under the input directory\n",
        "\n",
        "import os\n",
        "for dirname, _, filenames in os.walk('/kaggle/input'):\n",
        "    for filename in filenames:\n",
        "        print(os.path.join(dirname, filename))\n",
        "\n",
        "# You can write up to 20GB to the current directory (/kaggle/working/) that gets preserved as output when you create a version using \"Save & Run All\"\n",
        "# You can also write temporary files to /kaggle/temp/, but they won't be saved outside of the current session"
      ],
      "metadata": {
        "_uuid": "8f2839f25d086af736a60e9eeb907d3b93b6e0e5",
        "_cell_guid": "b1076dfc-b9ad-4769-8c92-a6c4dae69d19",
        "execution": {
          "iopub.status.busy": "2023-06-02T13:04:27.494771Z",
          "iopub.execute_input": "2023-06-02T13:04:27.495229Z",
          "iopub.status.idle": "2023-06-02T13:04:27.514665Z",
          "shell.execute_reply.started": "2023-06-02T13:04:27.495186Z",
          "shell.execute_reply": "2023-06-02T13:04:27.513491Z"
        },
        "trusted": true,
        "id": "pQHyE7jNSchl"
      },
      "execution_count": null,
      "outputs": []
    },
    {
      "cell_type": "markdown",
      "source": [
        "# Water Quality\n",
        "Access to safe drinking-water is essential to health, a basic human right and a component of effective policy for health protection. This is important as a health and development issue at a national, regional and local level. In some regions, it has been shown that investments in water supply and sanitation can yield a net economic benefit, since the reductions in adverse health effects and health care costs outweigh the costs of undertaking the interventions.\n",
        "\n",
        "\n",
        "1. [Load and Check Data](#1)\n",
        "\n",
        "1. [Variable Description](#2)\n",
        "    * [Univariate Variable Analysis](#3)\n",
        "        * [Categorical Variable](#4)\n",
        "        * [Numerical Variable](#5)\n",
        "\n",
        "1. [Missing Value](#6)\n",
        "    * [Find Missing Value](#7)\n",
        "    * [Fill Missing Value](#8)\n",
        "\n",
        "1. [Visualization](#9)    \n",
        "    \n",
        "1. [Modeling](#10)\n",
        "\n",
        "1. [Summary](#11)\n",
        ""
      ],
      "metadata": {
        "id": "PKshI35RSchn"
      }
    },
    {
      "cell_type": "markdown",
      "source": [
        "<a id = \"1\"></a><br>\n",
        "# Load and Check Data"
      ],
      "metadata": {
        "id": "xZ3py6CqScho"
      }
    },
    {
      "cell_type": "code",
      "source": [
        "data = pd.read_csv(\"/kaggle/input/water-potability/water_potability.csv\")\n",
        "data.head()"
      ],
      "metadata": {
        "execution": {
          "iopub.status.busy": "2023-06-02T13:04:27.516511Z",
          "iopub.execute_input": "2023-06-02T13:04:27.517114Z",
          "iopub.status.idle": "2023-06-02T13:04:27.547611Z",
          "shell.execute_reply.started": "2023-06-02T13:04:27.517078Z",
          "shell.execute_reply": "2023-06-02T13:04:27.546351Z"
        },
        "trusted": true,
        "id": "w-rqjHHsSchp"
      },
      "execution_count": null,
      "outputs": []
    },
    {
      "cell_type": "code",
      "source": [
        "data.describe()"
      ],
      "metadata": {
        "execution": {
          "iopub.status.busy": "2023-06-02T13:04:27.549131Z",
          "iopub.execute_input": "2023-06-02T13:04:27.549496Z",
          "iopub.status.idle": "2023-06-02T13:04:27.598461Z",
          "shell.execute_reply.started": "2023-06-02T13:04:27.549463Z",
          "shell.execute_reply": "2023-06-02T13:04:27.596326Z"
        },
        "trusted": true,
        "id": "FpADRMdGSchq"
      },
      "execution_count": null,
      "outputs": []
    },
    {
      "cell_type": "markdown",
      "source": [
        "<a id = \"2\"></a><br>\n",
        "# Variable Description\n",
        "\n",
        "* pH : Acidity of water.\n",
        "* Hardness: Hardness of water.\n",
        "* Solids : Solids dissolved in water.\n",
        "* Chloramines: Chloramines dissolved in water.\n",
        "* Sulfate : Sulfate contained in water.\n",
        "* Conductivity: Conductivity of electric of water.\n",
        "* Organic Carbon : Organic Carbon dissolved in water.\n",
        "* Trihalomethanes: Trihalomethanes are chemicals that may be found in water.\n",
        "* Turbidity: Measure of light emitting.\n",
        "* Potability: Classification of water if it is healthy or not. 1 is healthy, 0 is unhealthy."
      ],
      "metadata": {
        "id": "jrZoFwimSchq"
      }
    },
    {
      "cell_type": "code",
      "source": [
        "data.info()"
      ],
      "metadata": {
        "execution": {
          "iopub.status.busy": "2023-06-02T13:04:27.601273Z",
          "iopub.execute_input": "2023-06-02T13:04:27.602368Z",
          "iopub.status.idle": "2023-06-02T13:04:27.616055Z",
          "shell.execute_reply.started": "2023-06-02T13:04:27.602326Z",
          "shell.execute_reply": "2023-06-02T13:04:27.61481Z"
        },
        "trusted": true,
        "id": "Gqk8xo40Schr"
      },
      "execution_count": null,
      "outputs": []
    },
    {
      "cell_type": "markdown",
      "source": [
        "<a id = \"3\"></a><br>\n",
        "# Univariate Variable Analysis\n",
        "* Categorical Variable: Potability\n",
        "* Numerical Variable: pH, Hardness, Solids, Chloramines, Sulfate, Conductivity, Organic Carbon, Trihalomethanes, Turbidity"
      ],
      "metadata": {
        "id": "iu9LKlOtSchr"
      }
    },
    {
      "cell_type": "markdown",
      "source": [
        "<a id = \"4\"></a><br>\n",
        "## Categorical Variable"
      ],
      "metadata": {
        "id": "STeDwl9VSchr"
      }
    },
    {
      "cell_type": "code",
      "source": [
        "plt.figure(figsize = (4,4))\n",
        "sns.countplot(data = data, x = data[\"Potability\"])\n",
        "plt.show()"
      ],
      "metadata": {
        "execution": {
          "iopub.status.busy": "2023-06-02T13:04:27.618281Z",
          "iopub.execute_input": "2023-06-02T13:04:27.618985Z",
          "iopub.status.idle": "2023-06-02T13:04:27.845806Z",
          "shell.execute_reply.started": "2023-06-02T13:04:27.618946Z",
          "shell.execute_reply": "2023-06-02T13:04:27.844036Z"
        },
        "trusted": true,
        "id": "xqGxs5wASchs"
      },
      "execution_count": null,
      "outputs": []
    },
    {
      "cell_type": "markdown",
      "source": [
        "* We clearly see that our data is not balanced."
      ],
      "metadata": {
        "id": "YHt1vNkrSchs"
      }
    },
    {
      "cell_type": "markdown",
      "source": [
        "<a id = \"5\"></a><br>\n",
        "## Numerical Variables:\n",
        "Our numerical variables are:\n",
        "* pH,\n",
        "* Hardness\n",
        "* Solids\n",
        "* Chloramines\n",
        "* Sulfate\n",
        "* Conductivity\n",
        "* Organic Carbon\n",
        "* Trihalomethanes\n",
        "* Turbidity\n",
        "\n",
        "We should see their distribution and how they affect potability on a histogram plot."
      ],
      "metadata": {
        "id": "uoyZ1CrNSchs"
      }
    },
    {
      "cell_type": "code",
      "source": [
        "def histplot(var):\n",
        "    plt.figure(figsize = (6,3))\n",
        "    sns.histplot(data = data, x = data[var], hue = data.Potability)\n",
        "    plt.xlabel(var)\n",
        "    plt.ylabel(\"count\")\n",
        "    plt.show()"
      ],
      "metadata": {
        "execution": {
          "iopub.status.busy": "2023-06-02T13:04:27.847314Z",
          "iopub.execute_input": "2023-06-02T13:04:27.847712Z",
          "iopub.status.idle": "2023-06-02T13:04:27.855016Z",
          "shell.execute_reply.started": "2023-06-02T13:04:27.847662Z",
          "shell.execute_reply": "2023-06-02T13:04:27.85367Z"
        },
        "trusted": true,
        "id": "P8Htcpi1Schs"
      },
      "execution_count": null,
      "outputs": []
    },
    {
      "cell_type": "code",
      "source": [
        "numvars = [\"ph\",\"Hardness\",\"Solids\",\"Chloramines\",\"Sulfate\",\"Conductivity\",\"Organic_carbon\",\"Trihalomethanes\",\"Turbidity\"]\n",
        "for n in numvars:\n",
        "    histplot(n)"
      ],
      "metadata": {
        "execution": {
          "iopub.status.busy": "2023-06-02T13:04:27.857072Z",
          "iopub.execute_input": "2023-06-02T13:04:27.857471Z",
          "iopub.status.idle": "2023-06-02T13:04:32.039565Z",
          "shell.execute_reply.started": "2023-06-02T13:04:27.857443Z",
          "shell.execute_reply": "2023-06-02T13:04:32.038343Z"
        },
        "trusted": true,
        "id": "HpRmtKyGScht"
      },
      "execution_count": null,
      "outputs": []
    },
    {
      "cell_type": "markdown",
      "source": [
        "<a id = \"6\"></a><br>\n",
        "# Missing Value\n"
      ],
      "metadata": {
        "id": "ymrfp2u6Scht"
      }
    },
    {
      "cell_type": "markdown",
      "source": [
        "<a id = \"7\"></a><br>\n",
        "## Find Missing Value"
      ],
      "metadata": {
        "id": "lSxjb1xwScht"
      }
    },
    {
      "cell_type": "code",
      "source": [
        "data.isnull().sum()"
      ],
      "metadata": {
        "execution": {
          "iopub.status.busy": "2023-06-02T13:04:32.041165Z",
          "iopub.execute_input": "2023-06-02T13:04:32.041545Z",
          "iopub.status.idle": "2023-06-02T13:04:32.05467Z",
          "shell.execute_reply.started": "2023-06-02T13:04:32.041515Z",
          "shell.execute_reply": "2023-06-02T13:04:32.05308Z"
        },
        "trusted": true,
        "id": "dnj0vWspScht"
      },
      "execution_count": null,
      "outputs": []
    },
    {
      "cell_type": "markdown",
      "source": [
        "<a id = \"8\"></a><br>\n",
        "## Dropping Missing Values"
      ],
      "metadata": {
        "id": "PVrmSM8FSchu"
      }
    },
    {
      "cell_type": "code",
      "source": [
        "data = data.dropna()\n",
        "data.isnull().sum()"
      ],
      "metadata": {
        "execution": {
          "iopub.status.busy": "2023-06-02T13:04:32.056388Z",
          "iopub.execute_input": "2023-06-02T13:04:32.057012Z",
          "iopub.status.idle": "2023-06-02T13:04:32.074146Z",
          "shell.execute_reply.started": "2023-06-02T13:04:32.056784Z",
          "shell.execute_reply": "2023-06-02T13:04:32.072887Z"
        },
        "trusted": true,
        "id": "FWgIbw_qSchu"
      },
      "execution_count": null,
      "outputs": []
    },
    {
      "cell_type": "markdown",
      "source": [
        "<a id = \"9\"></a><br>\n",
        "# Visualization"
      ],
      "metadata": {
        "id": "RrvZD9TeSchu"
      }
    },
    {
      "cell_type": "code",
      "source": [
        "numvars = [\"ph\",\"Hardness\",\"Solids\",\"Chloramines\",\"Sulfate\",\"Conductivity\",\"Organic_carbon\",\"Trihalomethanes\",\"Turbidity\"]\n",
        "fig, axes = plt.subplots(3, 3, figsize=(9,9))\n",
        "\n",
        "fig.suptitle('Distribution of Features')\n",
        "plt.grid()\n",
        "sns.boxplot(ax=axes[0, 0], data=data, x='ph')\n",
        "sns.boxplot(ax=axes[0, 1], data=data, x='Hardness')\n",
        "sns.boxplot(ax=axes[0, 2], data=data, x='Solids')\n",
        "sns.boxplot(ax=axes[1, 0], data=data, x='Chloramines')\n",
        "sns.boxplot(ax=axes[1, 1], data=data, x='Sulfate')\n",
        "sns.boxplot(ax=axes[1, 2], data=data, x='Conductivity')\n",
        "sns.boxplot(ax=axes[2, 0], data=data, x='Organic_carbon')\n",
        "sns.boxplot(ax=axes[2, 1], data=data, x='Trihalomethanes')\n",
        "sns.boxplot(ax=axes[2, 2], data=data, x='Turbidity')\n",
        "plt.show()"
      ],
      "metadata": {
        "execution": {
          "iopub.status.busy": "2023-06-02T13:04:32.078834Z",
          "iopub.execute_input": "2023-06-02T13:04:32.079868Z",
          "iopub.status.idle": "2023-06-02T13:04:32.993381Z",
          "shell.execute_reply.started": "2023-06-02T13:04:32.079818Z",
          "shell.execute_reply": "2023-06-02T13:04:32.9914Z"
        },
        "trusted": true,
        "id": "znhVfJ22Schv"
      },
      "execution_count": null,
      "outputs": []
    },
    {
      "cell_type": "markdown",
      "source": [
        "* We can see that all our features distributed normally. Let's get to the machine learning."
      ],
      "metadata": {
        "id": "tCzqfQIlSchv"
      }
    },
    {
      "cell_type": "markdown",
      "source": [
        "<a id = \"10\"></a><br>\n",
        "# Modeling"
      ],
      "metadata": {
        "id": "X4fT0vi6Schv"
      }
    },
    {
      "cell_type": "code",
      "source": [
        "pip install pycaret"
      ],
      "metadata": {
        "_kg_hide-output": true,
        "_kg_hide-input": true,
        "execution": {
          "iopub.status.busy": "2023-06-02T13:04:32.995048Z",
          "iopub.execute_input": "2023-06-02T13:04:32.995435Z",
          "iopub.status.idle": "2023-06-02T13:04:47.697508Z",
          "shell.execute_reply.started": "2023-06-02T13:04:32.995402Z",
          "shell.execute_reply": "2023-06-02T13:04:47.69597Z"
        },
        "trusted": true,
        "id": "Au2Ig8yKSchv"
      },
      "execution_count": null,
      "outputs": []
    },
    {
      "cell_type": "code",
      "source": [
        "from pycaret.classification import *\n",
        "clf = setup(data, target = \"Potability\", session_id = 786)\n",
        "compare_models()"
      ],
      "metadata": {
        "execution": {
          "iopub.status.busy": "2023-06-02T13:04:47.699569Z",
          "iopub.execute_input": "2023-06-02T13:04:47.699993Z",
          "iopub.status.idle": "2023-06-02T13:05:22.12842Z",
          "shell.execute_reply.started": "2023-06-02T13:04:47.699951Z",
          "shell.execute_reply": "2023-06-02T13:05:22.126711Z"
        },
        "trusted": true,
        "id": "qAxdVuytSchw"
      },
      "execution_count": null,
      "outputs": []
    },
    {
      "cell_type": "code",
      "source": [
        "model = create_model(\"et\")\n",
        "predict = predict_model(model, data=data)\n",
        "predict.head()"
      ],
      "metadata": {
        "execution": {
          "iopub.status.busy": "2023-06-02T13:05:22.1306Z",
          "iopub.execute_input": "2023-06-02T13:05:22.131862Z",
          "iopub.status.idle": "2023-06-02T13:05:27.469891Z",
          "shell.execute_reply.started": "2023-06-02T13:05:22.131799Z",
          "shell.execute_reply": "2023-06-02T13:05:27.468339Z"
        },
        "trusted": true,
        "id": "YpyA-ALrSchw"
      },
      "execution_count": null,
      "outputs": []
    },
    {
      "cell_type": "markdown",
      "source": [
        "<a id = \"11\"></a><br>\n",
        "# Summary\n",
        "Extra Trees Classifier gave the best accuracy around mostly known classifying models. So we decided to go on with it. It turned out %90 of accuracy. I've used PyCaret library in this notebook. It automatically fits all classification models to your specified data and feature and returns all the accuracies for each model."
      ],
      "metadata": {
        "id": "PaJ4Q7PwSchw"
      }
    },
    {
      "cell_type": "code",
      "source": [],
      "metadata": {
        "id": "RDiXtRwSSchw"
      },
      "execution_count": null,
      "outputs": []
    }
  ]
}